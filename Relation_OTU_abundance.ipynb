{
 "cells": [
  {
   "cell_type": "markdown",
   "metadata": {},
   "source": [
    "# Import libraries "
   ]
  },
  {
   "cell_type": "code",
   "execution_count": 1,
   "metadata": {},
   "outputs": [],
   "source": [
    "import pandas as pd\n",
    "import numpy as np\n",
    "from scipy.stats import spearmanr"
   ]
  },
  {
   "cell_type": "markdown",
   "metadata": {},
   "source": [
    "# Data"
   ]
  },
  {
   "cell_type": "code",
   "execution_count": 2,
   "metadata": {},
   "outputs": [],
   "source": [
    "ASD_data = pd.read_csv(\"ASD_meta_abundance.csv\")\n",
    "OTU_data = pd.read_csv(\"GSE113690_Autism_16S_rRNA_OTU_assignment_and_abundance.csv\")"
   ]
  },
  {
   "cell_type": "markdown",
   "metadata": {},
   "source": [
    "Data Cleaning: Drop or impute missing values. Exclude non-numeric columns from median calculation"
   ]
  },
  {
   "cell_type": "code",
   "execution_count": 3,
   "metadata": {},
   "outputs": [],
   "source": [
    "ASD_data_numeric = ASD_data.select_dtypes(include=[np.number])\n",
    "ASD_data[ASD_data_numeric.columns] = ASD_data_numeric.fillna(ASD_data_numeric.median())\n",
    "\n",
    "OTU_data_numeric = OTU_data.select_dtypes(include=[np.number])\n",
    "OTU_data[OTU_data_numeric.columns] = OTU_data_numeric.fillna(OTU_data_numeric.median())"
   ]
  },
  {
   "cell_type": "markdown",
   "metadata": {},
   "source": [
    "Align data by using common indices to ensure they have the same samples. We want to analyze the samples present in both tables."
   ]
  },
  {
   "cell_type": "code",
   "execution_count": 4,
   "metadata": {},
   "outputs": [],
   "source": [
    "common_indices = ASD_data_numeric.index.intersection(OTU_data_numeric.index)\n",
    "ASD_data_aligned = ASD_data_numeric.loc[common_indices]\n",
    "OTU_data_aligned = OTU_data_numeric.loc[common_indices]"
   ]
  },
  {
   "cell_type": "markdown",
   "metadata": {},
   "source": [
    "# Correlation Analysis between OTU abundance and clinical features"
   ]
  },
  {
   "cell_type": "markdown",
   "metadata": {},
   "source": [
    "We want to study the abundance of OTU and the clinical traits. Obtain the Spearman correlation, it is useful to measure the relation between two variables, more if they are not lineal."
   ]
  },
  {
   "cell_type": "code",
   "execution_count": 5,
   "metadata": {},
   "outputs": [],
   "source": [
    "correlation_results = []\n",
    "for otu in OTU_data_aligned.columns:\n",
    "    for feature in ASD_data_aligned.columns:\n",
    "        corr, p_value = spearmanr(OTU_data_aligned[otu], ASD_data_aligned[feature])\n",
    "        correlation_results.append((otu, feature, corr, p_value))"
   ]
  },
  {
   "cell_type": "markdown",
   "metadata": {},
   "source": [
    "Convert results to DataFrame"
   ]
  },
  {
   "cell_type": "code",
   "execution_count": 6,
   "metadata": {},
   "outputs": [],
   "source": [
    "correlation_df = pd.DataFrame(correlation_results, columns=['OTU', 'Clinical Feature', 'Spearman Correlation', 'P-value'])"
   ]
  },
  {
   "cell_type": "markdown",
   "metadata": {},
   "source": [
    "Filter significant correlations (e.g., p-value < 0.05). Those below a p value of 0.05 are considere significant, observing which OTUs are significant correlated."
   ]
  },
  {
   "cell_type": "code",
   "execution_count": 7,
   "metadata": {},
   "outputs": [
    {
     "name": "stdout",
     "output_type": "stream",
     "text": [
      "Significant Correlations between OTU abundance and Clinical Features:\n",
      "       OTU Clinical Feature  Spearman Correlation   P-value\n",
      "3       A1               A9             -0.070453  0.010396\n",
      "30      A1               B1             -0.055813  0.042460\n",
      "32      A1               B3             -0.059806  0.029674\n",
      "35      A1               B7             -0.054412  0.047932\n",
      "41      A1              B36             -0.054955  0.045745\n",
      "...    ...              ...                   ...       ...\n",
      "15030  B59               B1             -0.054938  0.045812\n",
      "15047  B59             B111             -0.065270  0.017622\n",
      "15048  B59             B114             -0.055588  0.043300\n",
      "15056  B59             B152             -0.056130  0.041297\n",
      "15107   B6             B111             -0.056955  0.038400\n",
      "\n",
      "[1914 rows x 4 columns]\n"
     ]
    }
   ],
   "source": [
    "significant_correlations = correlation_df[correlation_df['P-value'] < 0.05]\n",
    "print(\"Significant Correlations between OTU abundance and Clinical Features:\")\n",
    "print(significant_correlations)"
   ]
  }
 ],
 "metadata": {
  "kernelspec": {
   "display_name": "Python 3",
   "language": "python",
   "name": "python3"
  },
  "language_info": {
   "codemirror_mode": {
    "name": "ipython",
    "version": 3
   },
   "file_extension": ".py",
   "mimetype": "text/x-python",
   "name": "python",
   "nbconvert_exporter": "python",
   "pygments_lexer": "ipython3",
   "version": "3.12.4"
  }
 },
 "nbformat": 4,
 "nbformat_minor": 2
}
